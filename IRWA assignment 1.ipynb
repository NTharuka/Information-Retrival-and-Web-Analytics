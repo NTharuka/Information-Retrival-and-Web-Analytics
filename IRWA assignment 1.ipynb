{
  "nbformat": 4,
  "nbformat_minor": 0,
  "metadata": {
    "colab": {
      "provenance": [],
      "collapsed_sections": []
    },
    "kernelspec": {
      "name": "python3",
      "display_name": "Python 3"
    },
    "language_info": {
      "name": "python"
    }
  },
  "cells": [
    {
      "cell_type": "markdown",
      "source": [
        "1). Build a generic python module to do the followings"
      ],
      "metadata": {
        "id": "W1PcHQmWmqgc"
      }
    },
    {
      "cell_type": "code",
      "execution_count": 45,
      "metadata": {
        "id": "HubSbBdxbENa"
      },
      "outputs": [],
      "source": [
        "#import libraries to the code\n",
        "import math\n",
        "import pandas as pd\n",
        "import numpy as np\n",
        "from sklearn.feature_extraction.text import TfidfVectorizer"
      ]
    },
    {
      "cell_type": "code",
      "source": [
        "#get five documents\n",
        "DocNo1 = \"Information Retrieval System\"\n",
        "DocNo2 = \"Information about the Human Resource System\"\n",
        "DocNo3 = \"Resources allocated to Faculty of Computing Information Centre\"\n",
        "DocNo4 = \"Ranked Retrieval Model with High Accuracy\"\n",
        "DocNo5 = \"Boolean Retrieval Model has Several Problems\"\n",
        "\n",
        "#take a list\n",
        "docs_List = [DocNo1, DocNo2, DocNo3, DocNo4, DocNo5]"
      ],
      "metadata": {
        "id": "6P0NEghvpRIX"
      },
      "execution_count": 46,
      "outputs": []
    },
    {
      "cell_type": "code",
      "source": [
        "# Seperate in to phase\n",
        "DocNo1_phase = DocNo1.split(' ')\n",
        "DocNo2_phase = DocNo2.split(' ')\n",
        "DocNo3_phase = DocNo3.split(' ')\n",
        "DocNo4_phase = DocNo4.split(' ')\n",
        "DocNo5_phase = DocNo5.split(' ')"
      ],
      "metadata": {
        "id": "MFEOZPh2Fagk"
      },
      "execution_count": 47,
      "outputs": []
    },
    {
      "cell_type": "code",
      "source": [
        "# Find a unique phase\n",
        "unique_words = set(DocNo1_phase).union(set(DocNo2_phase)).union(set(DocNo3_phase)).union(set(DocNo4_phase)).union(set(DocNo5_phase))"
      ],
      "metadata": {
        "id": "NKBnjYe0F52j"
      },
      "execution_count": 48,
      "outputs": []
    },
    {
      "cell_type": "markdown",
      "source": [
        "1). a). Calculate the term frequency and document frequency for the given corpus.\n"
      ],
      "metadata": {
        "id": "L1Op7xfPstEE"
      }
    },
    {
      "cell_type": "markdown",
      "source": [
        "Term Frequency"
      ],
      "metadata": {
        "id": "Gc057N0CBBKK"
      }
    },
    {
      "cell_type": "code",
      "source": [
        "#get term frequency as word occurences in a document\n",
        "\n",
        "def coTOfFre(uniqueWords, bagOfWords):\n",
        "  import math\n",
        "  TOfFreDict = dict.fromkeys(uniqueWords, 0)\n",
        "  for w in bagOfWords:\n",
        "    TOfFreDict[w] += 1\n",
        "  return TOfFreDict\n",
        "\n",
        "tOfFre_doc1 = coTOfFre(unique_words, DocNo1_phase)\n",
        "tOfFre_doc2 = coTOfFre(unique_words, DocNo2_phase)\n",
        "tOfFre_doc3 = coTOfFre(unique_words, DocNo3_phase)\n",
        "tOfFre_doc4 = coTOfFre(unique_words, DocNo4_phase)\n",
        "tOfFre_doc5 = coTOfFre(unique_words, DocNo5_phase)\n",
        "\n",
        "print(tOfFre_doc1,tOfFre_doc2,tOfFre_doc3,tOfFre_doc4,tOfFre_doc5)"
      ],
      "metadata": {
        "id": "5SBC-Wt4AUj3",
        "colab": {
          "base_uri": "https://localhost:8080/"
        },
        "outputId": "b00b6c81-48f1-464f-cb10-89fbad262439"
      },
      "execution_count": 49,
      "outputs": [
        {
          "output_type": "stream",
          "name": "stdout",
          "text": [
            "{'Ranked': 0, 'System': 1, 'Problems': 0, 'to': 0, 'Boolean': 0, 'Resource': 0, 'Information': 1, 'Model': 0, 'allocated': 0, 'Centre': 0, 'Retrieval': 1, 'about': 0, 'the': 0, 'High': 0, 'has': 0, 'of': 0, 'Faculty': 0, 'Computing': 0, 'Several': 0, 'with': 0, 'Human': 0, 'Accuracy': 0, 'Resources': 0} {'Ranked': 0, 'System': 1, 'Problems': 0, 'to': 0, 'Boolean': 0, 'Resource': 1, 'Information': 1, 'Model': 0, 'allocated': 0, 'Centre': 0, 'Retrieval': 0, 'about': 1, 'the': 1, 'High': 0, 'has': 0, 'of': 0, 'Faculty': 0, 'Computing': 0, 'Several': 0, 'with': 0, 'Human': 1, 'Accuracy': 0, 'Resources': 0} {'Ranked': 0, 'System': 0, 'Problems': 0, 'to': 1, 'Boolean': 0, 'Resource': 0, 'Information': 1, 'Model': 0, 'allocated': 1, 'Centre': 1, 'Retrieval': 0, 'about': 0, 'the': 0, 'High': 0, 'has': 0, 'of': 1, 'Faculty': 1, 'Computing': 1, 'Several': 0, 'with': 0, 'Human': 0, 'Accuracy': 0, 'Resources': 1} {'Ranked': 1, 'System': 0, 'Problems': 0, 'to': 0, 'Boolean': 0, 'Resource': 0, 'Information': 0, 'Model': 1, 'allocated': 0, 'Centre': 0, 'Retrieval': 1, 'about': 0, 'the': 0, 'High': 1, 'has': 0, 'of': 0, 'Faculty': 0, 'Computing': 0, 'Several': 0, 'with': 1, 'Human': 0, 'Accuracy': 1, 'Resources': 0} {'Ranked': 0, 'System': 0, 'Problems': 1, 'to': 0, 'Boolean': 1, 'Resource': 0, 'Information': 0, 'Model': 1, 'allocated': 0, 'Centre': 0, 'Retrieval': 1, 'about': 0, 'the': 0, 'High': 0, 'has': 1, 'of': 0, 'Faculty': 0, 'Computing': 0, 'Several': 1, 'with': 0, 'Human': 0, 'Accuracy': 0, 'Resources': 0}\n"
          ]
        }
      ]
    },
    {
      "cell_type": "code",
      "source": [
        "# Obtain document frequencies\n",
        "def coDocFre(words, doc):\n",
        "  docFre = {} #Dictionary containing document frequency\n",
        "  for w in words:\n",
        "    docFre[w] = 0\n",
        "    for d in doc:\n",
        "      if w in d:\n",
        "        docFre[w] += 1\n",
        "  return docFre"
      ],
      "metadata": {
        "id": "Cv4V9NiaHDMI"
      },
      "execution_count": 50,
      "outputs": []
    },
    {
      "cell_type": "code",
      "source": [
        "# Frequency of the document\n",
        "docFre = coDocFre(unique_words, [DocNo1_phase, DocNo2_phase, DocNo3_phase, DocNo4_phase, DocNo5_phase])\n",
        "\n",
        "print(docFre)"
      ],
      "metadata": {
        "colab": {
          "base_uri": "https://localhost:8080/"
        },
        "id": "-bkbfqriHGX5",
        "outputId": "93d64df2-4bfc-4c19-cf9b-aa4431794202"
      },
      "execution_count": 51,
      "outputs": [
        {
          "output_type": "stream",
          "name": "stdout",
          "text": [
            "{'Ranked': 1, 'System': 2, 'Problems': 1, 'to': 1, 'Boolean': 1, 'Resource': 1, 'Information': 3, 'Model': 2, 'allocated': 1, 'Centre': 1, 'Retrieval': 3, 'about': 1, 'the': 1, 'High': 1, 'has': 1, 'of': 1, 'Faculty': 1, 'Computing': 1, 'Several': 1, 'with': 1, 'Human': 1, 'Accuracy': 1, 'Resources': 1}\n"
          ]
        }
      ]
    },
    {
      "cell_type": "code",
      "source": [
        "# Calculate term frequency scores\n",
        "def calcTOfFreSco(tOfFre_dict):\n",
        "  for w, f in tOfFre_dict.items():\n",
        "    if f > 0:\n",
        "      tOfFre_dict[w] = 1 + math.log10(f)\n",
        "  return tOfFre_dict #return tOfFre_dict"
      ],
      "metadata": {
        "id": "45v-Rcx6HMCp"
      },
      "execution_count": 52,
      "outputs": []
    },
    {
      "cell_type": "code",
      "source": [
        "# get term frequency scores\n",
        "tOfFreSco_doc1 = calcTOfFreSco(tOfFre_doc1)\n",
        "tOfFreSco_doc2 = calcTOfFreSco(tOfFre_doc2)\n",
        "tOfFreSco_doc3 = calcTOfFreSco(tOfFre_doc3)\n",
        "tOfFreSco_doc4 = calcTOfFreSco(tOfFre_doc4)\n",
        "tOfFreSco_doc5 = calcTOfFreSco(tOfFre_doc5)"
      ],
      "metadata": {
        "id": "LDijXTpuHNEZ"
      },
      "execution_count": 53,
      "outputs": []
    },
    {
      "cell_type": "code",
      "source": [
        "\n",
        "\n",
        "def calIDFSco(docFre, docs):\n",
        "  N = len(docs)\n",
        "\n",
        "  idf = dict.fromkeys(docFre.keys(), 0)\n",
        "\n",
        "  for x in idf:\n",
        "    idf[x] = math.log10(N/docFre[x])\n",
        "\n",
        "  return idf"
      ],
      "metadata": {
        "id": "RKQThw1NHPcw"
      },
      "execution_count": 86,
      "outputs": []
    },
    {
      "cell_type": "code",
      "source": [
        "#difine the Idf scores\n",
        "idfs = calIDFSco(docFre, [DocNo1_phase, DocNo2_phase, DocNo3_phase, DocNo4_phase, DocNo5_phase]) "
      ],
      "metadata": {
        "id": "UW0JzOZQHaTB"
      },
      "execution_count": 55,
      "outputs": []
    },
    {
      "cell_type": "markdown",
      "source": [
        "1). b). Calculate the tf-idf weight for terms in the given corpus using the formula"
      ],
      "metadata": {
        "id": "Oft8aMH1kTlQ"
      }
    },
    {
      "cell_type": "code",
      "source": [
        "# Calculation of the term frequency-Idf socres\n",
        "\n",
        "def CalTfIdf(tOfFre_scores, idf_scores):\n",
        "  tOfFre_idf = {}\n",
        "  for w, tOfFre in tOfFre_scores.items():\n",
        "    tOfFre_idf[w] = tOfFre * idf_scores[w]\n",
        "\n",
        "  return tOfFre_idf  #return tOfFre_idf"
      ],
      "metadata": {
        "id": "bvyl2S35HoA6"
      },
      "execution_count": 56,
      "outputs": []
    },
    {
      "cell_type": "code",
      "source": [
        "# get the term frequency-Idf scores\n",
        "tOfFre_idf1 = CalTfIdf(tOfFreSco_doc1, idfs)\n",
        "tOfFre_idf2 = CalTfIdf(tOfFreSco_doc2, idfs)\n",
        "tOfFre_idf3 = CalTfIdf(tOfFreSco_doc3, idfs)\n",
        "tOfFre_idf4 = CalTfIdf(tOfFreSco_doc4, idfs)\n",
        "tOfFre_idf5 = CalTfIdf(tOfFreSco_doc5, idfs)"
      ],
      "metadata": {
        "id": "4u_JhsigHtk5"
      },
      "execution_count": 57,
      "outputs": []
    },
    {
      "cell_type": "code",
      "source": [
        "# Visualizion of the Idf scores\n",
        "\n",
        "all_idfs = pd.DataFrame([tOfFre_idf1,tOfFre_idf2,tOfFre_idf3,tOfFre_idf4,tOfFre_idf5])\n",
        "all_idfs"
      ],
      "metadata": {
        "colab": {
          "base_uri": "https://localhost:8080/",
          "height": 300
        },
        "id": "m-hw36-cHyMC",
        "outputId": "8f8626ef-d96e-452a-c7ee-d1452db1c208"
      },
      "execution_count": 58,
      "outputs": [
        {
          "output_type": "execute_result",
          "data": {
            "text/plain": [
              "    Ranked   System  Problems       to  Boolean  Resource  Information  \\\n",
              "0  0.00000  0.39794   0.00000  0.00000  0.00000   0.00000     0.221849   \n",
              "1  0.00000  0.39794   0.00000  0.00000  0.00000   0.69897     0.221849   \n",
              "2  0.00000  0.00000   0.00000  0.69897  0.00000   0.00000     0.221849   \n",
              "3  0.69897  0.00000   0.00000  0.00000  0.00000   0.00000     0.000000   \n",
              "4  0.00000  0.00000   0.69897  0.00000  0.69897   0.00000     0.000000   \n",
              "\n",
              "     Model  allocated   Centre  ...     High      has       of  Faculty  \\\n",
              "0  0.00000    0.00000  0.00000  ...  0.00000  0.00000  0.00000  0.00000   \n",
              "1  0.00000    0.00000  0.00000  ...  0.00000  0.00000  0.00000  0.00000   \n",
              "2  0.00000    0.69897  0.69897  ...  0.00000  0.00000  0.69897  0.69897   \n",
              "3  0.39794    0.00000  0.00000  ...  0.69897  0.00000  0.00000  0.00000   \n",
              "4  0.39794    0.00000  0.00000  ...  0.00000  0.69897  0.00000  0.00000   \n",
              "\n",
              "   Computing  Several     with    Human  Accuracy  Resources  \n",
              "0    0.00000  0.00000  0.00000  0.00000   0.00000    0.00000  \n",
              "1    0.00000  0.00000  0.00000  0.69897   0.00000    0.00000  \n",
              "2    0.69897  0.00000  0.00000  0.00000   0.00000    0.69897  \n",
              "3    0.00000  0.00000  0.69897  0.00000   0.69897    0.00000  \n",
              "4    0.00000  0.69897  0.00000  0.00000   0.00000    0.00000  \n",
              "\n",
              "[5 rows x 23 columns]"
            ],
            "text/html": [
              "\n",
              "  <div id=\"df-3fe27fd0-2a64-4247-89b2-a04702f73a0c\">\n",
              "    <div class=\"colab-df-container\">\n",
              "      <div>\n",
              "<style scoped>\n",
              "    .dataframe tbody tr th:only-of-type {\n",
              "        vertical-align: middle;\n",
              "    }\n",
              "\n",
              "    .dataframe tbody tr th {\n",
              "        vertical-align: top;\n",
              "    }\n",
              "\n",
              "    .dataframe thead th {\n",
              "        text-align: right;\n",
              "    }\n",
              "</style>\n",
              "<table border=\"1\" class=\"dataframe\">\n",
              "  <thead>\n",
              "    <tr style=\"text-align: right;\">\n",
              "      <th></th>\n",
              "      <th>Ranked</th>\n",
              "      <th>System</th>\n",
              "      <th>Problems</th>\n",
              "      <th>to</th>\n",
              "      <th>Boolean</th>\n",
              "      <th>Resource</th>\n",
              "      <th>Information</th>\n",
              "      <th>Model</th>\n",
              "      <th>allocated</th>\n",
              "      <th>Centre</th>\n",
              "      <th>...</th>\n",
              "      <th>High</th>\n",
              "      <th>has</th>\n",
              "      <th>of</th>\n",
              "      <th>Faculty</th>\n",
              "      <th>Computing</th>\n",
              "      <th>Several</th>\n",
              "      <th>with</th>\n",
              "      <th>Human</th>\n",
              "      <th>Accuracy</th>\n",
              "      <th>Resources</th>\n",
              "    </tr>\n",
              "  </thead>\n",
              "  <tbody>\n",
              "    <tr>\n",
              "      <th>0</th>\n",
              "      <td>0.00000</td>\n",
              "      <td>0.39794</td>\n",
              "      <td>0.00000</td>\n",
              "      <td>0.00000</td>\n",
              "      <td>0.00000</td>\n",
              "      <td>0.00000</td>\n",
              "      <td>0.221849</td>\n",
              "      <td>0.00000</td>\n",
              "      <td>0.00000</td>\n",
              "      <td>0.00000</td>\n",
              "      <td>...</td>\n",
              "      <td>0.00000</td>\n",
              "      <td>0.00000</td>\n",
              "      <td>0.00000</td>\n",
              "      <td>0.00000</td>\n",
              "      <td>0.00000</td>\n",
              "      <td>0.00000</td>\n",
              "      <td>0.00000</td>\n",
              "      <td>0.00000</td>\n",
              "      <td>0.00000</td>\n",
              "      <td>0.00000</td>\n",
              "    </tr>\n",
              "    <tr>\n",
              "      <th>1</th>\n",
              "      <td>0.00000</td>\n",
              "      <td>0.39794</td>\n",
              "      <td>0.00000</td>\n",
              "      <td>0.00000</td>\n",
              "      <td>0.00000</td>\n",
              "      <td>0.69897</td>\n",
              "      <td>0.221849</td>\n",
              "      <td>0.00000</td>\n",
              "      <td>0.00000</td>\n",
              "      <td>0.00000</td>\n",
              "      <td>...</td>\n",
              "      <td>0.00000</td>\n",
              "      <td>0.00000</td>\n",
              "      <td>0.00000</td>\n",
              "      <td>0.00000</td>\n",
              "      <td>0.00000</td>\n",
              "      <td>0.00000</td>\n",
              "      <td>0.00000</td>\n",
              "      <td>0.69897</td>\n",
              "      <td>0.00000</td>\n",
              "      <td>0.00000</td>\n",
              "    </tr>\n",
              "    <tr>\n",
              "      <th>2</th>\n",
              "      <td>0.00000</td>\n",
              "      <td>0.00000</td>\n",
              "      <td>0.00000</td>\n",
              "      <td>0.69897</td>\n",
              "      <td>0.00000</td>\n",
              "      <td>0.00000</td>\n",
              "      <td>0.221849</td>\n",
              "      <td>0.00000</td>\n",
              "      <td>0.69897</td>\n",
              "      <td>0.69897</td>\n",
              "      <td>...</td>\n",
              "      <td>0.00000</td>\n",
              "      <td>0.00000</td>\n",
              "      <td>0.69897</td>\n",
              "      <td>0.69897</td>\n",
              "      <td>0.69897</td>\n",
              "      <td>0.00000</td>\n",
              "      <td>0.00000</td>\n",
              "      <td>0.00000</td>\n",
              "      <td>0.00000</td>\n",
              "      <td>0.69897</td>\n",
              "    </tr>\n",
              "    <tr>\n",
              "      <th>3</th>\n",
              "      <td>0.69897</td>\n",
              "      <td>0.00000</td>\n",
              "      <td>0.00000</td>\n",
              "      <td>0.00000</td>\n",
              "      <td>0.00000</td>\n",
              "      <td>0.00000</td>\n",
              "      <td>0.000000</td>\n",
              "      <td>0.39794</td>\n",
              "      <td>0.00000</td>\n",
              "      <td>0.00000</td>\n",
              "      <td>...</td>\n",
              "      <td>0.69897</td>\n",
              "      <td>0.00000</td>\n",
              "      <td>0.00000</td>\n",
              "      <td>0.00000</td>\n",
              "      <td>0.00000</td>\n",
              "      <td>0.00000</td>\n",
              "      <td>0.69897</td>\n",
              "      <td>0.00000</td>\n",
              "      <td>0.69897</td>\n",
              "      <td>0.00000</td>\n",
              "    </tr>\n",
              "    <tr>\n",
              "      <th>4</th>\n",
              "      <td>0.00000</td>\n",
              "      <td>0.00000</td>\n",
              "      <td>0.69897</td>\n",
              "      <td>0.00000</td>\n",
              "      <td>0.69897</td>\n",
              "      <td>0.00000</td>\n",
              "      <td>0.000000</td>\n",
              "      <td>0.39794</td>\n",
              "      <td>0.00000</td>\n",
              "      <td>0.00000</td>\n",
              "      <td>...</td>\n",
              "      <td>0.00000</td>\n",
              "      <td>0.69897</td>\n",
              "      <td>0.00000</td>\n",
              "      <td>0.00000</td>\n",
              "      <td>0.00000</td>\n",
              "      <td>0.69897</td>\n",
              "      <td>0.00000</td>\n",
              "      <td>0.00000</td>\n",
              "      <td>0.00000</td>\n",
              "      <td>0.00000</td>\n",
              "    </tr>\n",
              "  </tbody>\n",
              "</table>\n",
              "<p>5 rows × 23 columns</p>\n",
              "</div>\n",
              "      <button class=\"colab-df-convert\" onclick=\"convertToInteractive('df-3fe27fd0-2a64-4247-89b2-a04702f73a0c')\"\n",
              "              title=\"Convert this dataframe to an interactive table.\"\n",
              "              style=\"display:none;\">\n",
              "        \n",
              "  <svg xmlns=\"http://www.w3.org/2000/svg\" height=\"24px\"viewBox=\"0 0 24 24\"\n",
              "       width=\"24px\">\n",
              "    <path d=\"M0 0h24v24H0V0z\" fill=\"none\"/>\n",
              "    <path d=\"M18.56 5.44l.94 2.06.94-2.06 2.06-.94-2.06-.94-.94-2.06-.94 2.06-2.06.94zm-11 1L8.5 8.5l.94-2.06 2.06-.94-2.06-.94L8.5 2.5l-.94 2.06-2.06.94zm10 10l.94 2.06.94-2.06 2.06-.94-2.06-.94-.94-2.06-.94 2.06-2.06.94z\"/><path d=\"M17.41 7.96l-1.37-1.37c-.4-.4-.92-.59-1.43-.59-.52 0-1.04.2-1.43.59L10.3 9.45l-7.72 7.72c-.78.78-.78 2.05 0 2.83L4 21.41c.39.39.9.59 1.41.59.51 0 1.02-.2 1.41-.59l7.78-7.78 2.81-2.81c.8-.78.8-2.07 0-2.86zM5.41 20L4 18.59l7.72-7.72 1.47 1.35L5.41 20z\"/>\n",
              "  </svg>\n",
              "      </button>\n",
              "      \n",
              "  <style>\n",
              "    .colab-df-container {\n",
              "      display:flex;\n",
              "      flex-wrap:wrap;\n",
              "      gap: 12px;\n",
              "    }\n",
              "\n",
              "    .colab-df-convert {\n",
              "      background-color: #E8F0FE;\n",
              "      border: none;\n",
              "      border-radius: 50%;\n",
              "      cursor: pointer;\n",
              "      display: none;\n",
              "      fill: #1967D2;\n",
              "      height: 32px;\n",
              "      padding: 0 0 0 0;\n",
              "      width: 32px;\n",
              "    }\n",
              "\n",
              "    .colab-df-convert:hover {\n",
              "      background-color: #E2EBFA;\n",
              "      box-shadow: 0px 1px 2px rgba(60, 64, 67, 0.3), 0px 1px 3px 1px rgba(60, 64, 67, 0.15);\n",
              "      fill: #174EA6;\n",
              "    }\n",
              "\n",
              "    [theme=dark] .colab-df-convert {\n",
              "      background-color: #3B4455;\n",
              "      fill: #D2E3FC;\n",
              "    }\n",
              "\n",
              "    [theme=dark] .colab-df-convert:hover {\n",
              "      background-color: #434B5C;\n",
              "      box-shadow: 0px 1px 3px 1px rgba(0, 0, 0, 0.15);\n",
              "      filter: drop-shadow(0px 1px 2px rgba(0, 0, 0, 0.3));\n",
              "      fill: #FFFFFF;\n",
              "    }\n",
              "  </style>\n",
              "\n",
              "      <script>\n",
              "        const buttonEl =\n",
              "          document.querySelector('#df-3fe27fd0-2a64-4247-89b2-a04702f73a0c button.colab-df-convert');\n",
              "        buttonEl.style.display =\n",
              "          google.colab.kernel.accessAllowed ? 'block' : 'none';\n",
              "\n",
              "        async function convertToInteractive(key) {\n",
              "          const element = document.querySelector('#df-3fe27fd0-2a64-4247-89b2-a04702f73a0c');\n",
              "          const dataTable =\n",
              "            await google.colab.kernel.invokeFunction('convertToInteractive',\n",
              "                                                     [key], {});\n",
              "          if (!dataTable) return;\n",
              "\n",
              "          const docLinkHtml = 'Like what you see? Visit the ' +\n",
              "            '<a target=\"_blank\" href=https://colab.research.google.com/notebooks/data_table.ipynb>data table notebook</a>'\n",
              "            + ' to learn more about interactive tables.';\n",
              "          element.innerHTML = '';\n",
              "          dataTable['output_type'] = 'display_data';\n",
              "          await google.colab.output.renderOutput(dataTable, element);\n",
              "          const docLink = document.createElement('div');\n",
              "          docLink.innerHTML = docLinkHtml;\n",
              "          element.appendChild(docLink);\n",
              "        }\n",
              "      </script>\n",
              "    </div>\n",
              "  </div>\n",
              "  "
            ]
          },
          "metadata": {},
          "execution_count": 58
        }
      ]
    },
    {
      "cell_type": "markdown",
      "source": [
        "1). c). Calculate the normalized vector for each term"
      ],
      "metadata": {
        "id": "sHci-SLvkLxH"
      }
    },
    {
      "cell_type": "code",
      "source": [
        "\n",
        "# Normalizion of scores\n",
        "\n",
        "def norTOfFreIdf(tOfFre_idf):\n",
        "  squared = []\n",
        "  normalized = {}\n",
        "\n",
        "  # Get sqaures\n",
        "  for w, score in tOfFre_idf.items():\n",
        "    squared.append(score ** 2)\n",
        "\n",
        "# Normalize\n",
        "  for w, score in tOfFre_idf.items():\n",
        "    normalized[w] = score / math.sqrt(sum(squared))\n",
        "\n",
        "  return normalized"
      ],
      "metadata": {
        "id": "05mJ2EWyH0-L"
      },
      "execution_count": 59,
      "outputs": []
    },
    {
      "cell_type": "code",
      "source": [
        "# Normalizion of the term frequency-Idf scores\n",
        "nor_tOfFre_idf1 = norTOfFreIdf(tOfFre_idf1)\n",
        "nor_tOfFre_idf2 = norTOfFreIdf(tOfFre_idf2)\n",
        "nor_tOfFre_idf3 = norTOfFreIdf(tOfFre_idf3)\n",
        "nor_tOfFre_idf4 = norTOfFreIdf(tOfFre_idf4)\n",
        "nor_tOfFre_idf5 = norTOfFreIdf(tOfFre_idf5)\n",
        "\n",
        "normalized_scores = pd.DataFrame([nor_tOfFre_idf1, nor_tOfFre_idf2, nor_tOfFre_idf3, nor_tOfFre_idf4, nor_tOfFre_idf5])\n",
        "normalized_scores"
      ],
      "metadata": {
        "colab": {
          "base_uri": "https://localhost:8080/",
          "height": 300
        },
        "id": "b4wOQ8cJH5Jh",
        "outputId": "502d5b58-2e42-48b3-975c-d827fe9fc566"
      },
      "execution_count": 60,
      "outputs": [
        {
          "output_type": "execute_result",
          "data": {
            "text/plain": [
              "    Ranked    System  Problems        to  Boolean  Resource  Information  \\\n",
              "0  0.00000  0.785287   0.00000  0.000000  0.00000   0.00000     0.437792   \n",
              "1  0.00000  0.270651   0.00000  0.000000  0.00000   0.47539     0.150886   \n",
              "2  0.00000  0.000000   0.00000  0.375274  0.00000   0.00000     0.119110   \n",
              "3  0.47539  0.000000   0.00000  0.000000  0.00000   0.00000     0.000000   \n",
              "4  0.00000  0.000000   0.47539  0.000000  0.47539   0.00000     0.000000   \n",
              "\n",
              "      Model  allocated    Centre  ...     High      has        of   Faculty  \\\n",
              "0  0.000000   0.000000  0.000000  ...  0.00000  0.00000  0.000000  0.000000   \n",
              "1  0.000000   0.000000  0.000000  ...  0.00000  0.00000  0.000000  0.000000   \n",
              "2  0.000000   0.375274  0.375274  ...  0.00000  0.00000  0.375274  0.375274   \n",
              "3  0.270651   0.000000  0.000000  ...  0.47539  0.00000  0.000000  0.000000   \n",
              "4  0.270651   0.000000  0.000000  ...  0.00000  0.47539  0.000000  0.000000   \n",
              "\n",
              "   Computing  Several     with    Human  Accuracy  Resources  \n",
              "0   0.000000  0.00000  0.00000  0.00000   0.00000   0.000000  \n",
              "1   0.000000  0.00000  0.00000  0.47539   0.00000   0.000000  \n",
              "2   0.375274  0.00000  0.00000  0.00000   0.00000   0.375274  \n",
              "3   0.000000  0.00000  0.47539  0.00000   0.47539   0.000000  \n",
              "4   0.000000  0.47539  0.00000  0.00000   0.00000   0.000000  \n",
              "\n",
              "[5 rows x 23 columns]"
            ],
            "text/html": [
              "\n",
              "  <div id=\"df-0b50a124-ecfa-49c2-b93a-e1d2e2b4be96\">\n",
              "    <div class=\"colab-df-container\">\n",
              "      <div>\n",
              "<style scoped>\n",
              "    .dataframe tbody tr th:only-of-type {\n",
              "        vertical-align: middle;\n",
              "    }\n",
              "\n",
              "    .dataframe tbody tr th {\n",
              "        vertical-align: top;\n",
              "    }\n",
              "\n",
              "    .dataframe thead th {\n",
              "        text-align: right;\n",
              "    }\n",
              "</style>\n",
              "<table border=\"1\" class=\"dataframe\">\n",
              "  <thead>\n",
              "    <tr style=\"text-align: right;\">\n",
              "      <th></th>\n",
              "      <th>Ranked</th>\n",
              "      <th>System</th>\n",
              "      <th>Problems</th>\n",
              "      <th>to</th>\n",
              "      <th>Boolean</th>\n",
              "      <th>Resource</th>\n",
              "      <th>Information</th>\n",
              "      <th>Model</th>\n",
              "      <th>allocated</th>\n",
              "      <th>Centre</th>\n",
              "      <th>...</th>\n",
              "      <th>High</th>\n",
              "      <th>has</th>\n",
              "      <th>of</th>\n",
              "      <th>Faculty</th>\n",
              "      <th>Computing</th>\n",
              "      <th>Several</th>\n",
              "      <th>with</th>\n",
              "      <th>Human</th>\n",
              "      <th>Accuracy</th>\n",
              "      <th>Resources</th>\n",
              "    </tr>\n",
              "  </thead>\n",
              "  <tbody>\n",
              "    <tr>\n",
              "      <th>0</th>\n",
              "      <td>0.00000</td>\n",
              "      <td>0.785287</td>\n",
              "      <td>0.00000</td>\n",
              "      <td>0.000000</td>\n",
              "      <td>0.00000</td>\n",
              "      <td>0.00000</td>\n",
              "      <td>0.437792</td>\n",
              "      <td>0.000000</td>\n",
              "      <td>0.000000</td>\n",
              "      <td>0.000000</td>\n",
              "      <td>...</td>\n",
              "      <td>0.00000</td>\n",
              "      <td>0.00000</td>\n",
              "      <td>0.000000</td>\n",
              "      <td>0.000000</td>\n",
              "      <td>0.000000</td>\n",
              "      <td>0.00000</td>\n",
              "      <td>0.00000</td>\n",
              "      <td>0.00000</td>\n",
              "      <td>0.00000</td>\n",
              "      <td>0.000000</td>\n",
              "    </tr>\n",
              "    <tr>\n",
              "      <th>1</th>\n",
              "      <td>0.00000</td>\n",
              "      <td>0.270651</td>\n",
              "      <td>0.00000</td>\n",
              "      <td>0.000000</td>\n",
              "      <td>0.00000</td>\n",
              "      <td>0.47539</td>\n",
              "      <td>0.150886</td>\n",
              "      <td>0.000000</td>\n",
              "      <td>0.000000</td>\n",
              "      <td>0.000000</td>\n",
              "      <td>...</td>\n",
              "      <td>0.00000</td>\n",
              "      <td>0.00000</td>\n",
              "      <td>0.000000</td>\n",
              "      <td>0.000000</td>\n",
              "      <td>0.000000</td>\n",
              "      <td>0.00000</td>\n",
              "      <td>0.00000</td>\n",
              "      <td>0.47539</td>\n",
              "      <td>0.00000</td>\n",
              "      <td>0.000000</td>\n",
              "    </tr>\n",
              "    <tr>\n",
              "      <th>2</th>\n",
              "      <td>0.00000</td>\n",
              "      <td>0.000000</td>\n",
              "      <td>0.00000</td>\n",
              "      <td>0.375274</td>\n",
              "      <td>0.00000</td>\n",
              "      <td>0.00000</td>\n",
              "      <td>0.119110</td>\n",
              "      <td>0.000000</td>\n",
              "      <td>0.375274</td>\n",
              "      <td>0.375274</td>\n",
              "      <td>...</td>\n",
              "      <td>0.00000</td>\n",
              "      <td>0.00000</td>\n",
              "      <td>0.375274</td>\n",
              "      <td>0.375274</td>\n",
              "      <td>0.375274</td>\n",
              "      <td>0.00000</td>\n",
              "      <td>0.00000</td>\n",
              "      <td>0.00000</td>\n",
              "      <td>0.00000</td>\n",
              "      <td>0.375274</td>\n",
              "    </tr>\n",
              "    <tr>\n",
              "      <th>3</th>\n",
              "      <td>0.47539</td>\n",
              "      <td>0.000000</td>\n",
              "      <td>0.00000</td>\n",
              "      <td>0.000000</td>\n",
              "      <td>0.00000</td>\n",
              "      <td>0.00000</td>\n",
              "      <td>0.000000</td>\n",
              "      <td>0.270651</td>\n",
              "      <td>0.000000</td>\n",
              "      <td>0.000000</td>\n",
              "      <td>...</td>\n",
              "      <td>0.47539</td>\n",
              "      <td>0.00000</td>\n",
              "      <td>0.000000</td>\n",
              "      <td>0.000000</td>\n",
              "      <td>0.000000</td>\n",
              "      <td>0.00000</td>\n",
              "      <td>0.47539</td>\n",
              "      <td>0.00000</td>\n",
              "      <td>0.47539</td>\n",
              "      <td>0.000000</td>\n",
              "    </tr>\n",
              "    <tr>\n",
              "      <th>4</th>\n",
              "      <td>0.00000</td>\n",
              "      <td>0.000000</td>\n",
              "      <td>0.47539</td>\n",
              "      <td>0.000000</td>\n",
              "      <td>0.47539</td>\n",
              "      <td>0.00000</td>\n",
              "      <td>0.000000</td>\n",
              "      <td>0.270651</td>\n",
              "      <td>0.000000</td>\n",
              "      <td>0.000000</td>\n",
              "      <td>...</td>\n",
              "      <td>0.00000</td>\n",
              "      <td>0.47539</td>\n",
              "      <td>0.000000</td>\n",
              "      <td>0.000000</td>\n",
              "      <td>0.000000</td>\n",
              "      <td>0.47539</td>\n",
              "      <td>0.00000</td>\n",
              "      <td>0.00000</td>\n",
              "      <td>0.00000</td>\n",
              "      <td>0.000000</td>\n",
              "    </tr>\n",
              "  </tbody>\n",
              "</table>\n",
              "<p>5 rows × 23 columns</p>\n",
              "</div>\n",
              "      <button class=\"colab-df-convert\" onclick=\"convertToInteractive('df-0b50a124-ecfa-49c2-b93a-e1d2e2b4be96')\"\n",
              "              title=\"Convert this dataframe to an interactive table.\"\n",
              "              style=\"display:none;\">\n",
              "        \n",
              "  <svg xmlns=\"http://www.w3.org/2000/svg\" height=\"24px\"viewBox=\"0 0 24 24\"\n",
              "       width=\"24px\">\n",
              "    <path d=\"M0 0h24v24H0V0z\" fill=\"none\"/>\n",
              "    <path d=\"M18.56 5.44l.94 2.06.94-2.06 2.06-.94-2.06-.94-.94-2.06-.94 2.06-2.06.94zm-11 1L8.5 8.5l.94-2.06 2.06-.94-2.06-.94L8.5 2.5l-.94 2.06-2.06.94zm10 10l.94 2.06.94-2.06 2.06-.94-2.06-.94-.94-2.06-.94 2.06-2.06.94z\"/><path d=\"M17.41 7.96l-1.37-1.37c-.4-.4-.92-.59-1.43-.59-.52 0-1.04.2-1.43.59L10.3 9.45l-7.72 7.72c-.78.78-.78 2.05 0 2.83L4 21.41c.39.39.9.59 1.41.59.51 0 1.02-.2 1.41-.59l7.78-7.78 2.81-2.81c.8-.78.8-2.07 0-2.86zM5.41 20L4 18.59l7.72-7.72 1.47 1.35L5.41 20z\"/>\n",
              "  </svg>\n",
              "      </button>\n",
              "      \n",
              "  <style>\n",
              "    .colab-df-container {\n",
              "      display:flex;\n",
              "      flex-wrap:wrap;\n",
              "      gap: 12px;\n",
              "    }\n",
              "\n",
              "    .colab-df-convert {\n",
              "      background-color: #E8F0FE;\n",
              "      border: none;\n",
              "      border-radius: 50%;\n",
              "      cursor: pointer;\n",
              "      display: none;\n",
              "      fill: #1967D2;\n",
              "      height: 32px;\n",
              "      padding: 0 0 0 0;\n",
              "      width: 32px;\n",
              "    }\n",
              "\n",
              "    .colab-df-convert:hover {\n",
              "      background-color: #E2EBFA;\n",
              "      box-shadow: 0px 1px 2px rgba(60, 64, 67, 0.3), 0px 1px 3px 1px rgba(60, 64, 67, 0.15);\n",
              "      fill: #174EA6;\n",
              "    }\n",
              "\n",
              "    [theme=dark] .colab-df-convert {\n",
              "      background-color: #3B4455;\n",
              "      fill: #D2E3FC;\n",
              "    }\n",
              "\n",
              "    [theme=dark] .colab-df-convert:hover {\n",
              "      background-color: #434B5C;\n",
              "      box-shadow: 0px 1px 3px 1px rgba(0, 0, 0, 0.15);\n",
              "      filter: drop-shadow(0px 1px 2px rgba(0, 0, 0, 0.3));\n",
              "      fill: #FFFFFF;\n",
              "    }\n",
              "  </style>\n",
              "\n",
              "      <script>\n",
              "        const buttonEl =\n",
              "          document.querySelector('#df-0b50a124-ecfa-49c2-b93a-e1d2e2b4be96 button.colab-df-convert');\n",
              "        buttonEl.style.display =\n",
              "          google.colab.kernel.accessAllowed ? 'block' : 'none';\n",
              "\n",
              "        async function convertToInteractive(key) {\n",
              "          const element = document.querySelector('#df-0b50a124-ecfa-49c2-b93a-e1d2e2b4be96');\n",
              "          const dataTable =\n",
              "            await google.colab.kernel.invokeFunction('convertToInteractive',\n",
              "                                                     [key], {});\n",
              "          if (!dataTable) return;\n",
              "\n",
              "          const docLinkHtml = 'Like what you see? Visit the ' +\n",
              "            '<a target=\"_blank\" href=https://colab.research.google.com/notebooks/data_table.ipynb>data table notebook</a>'\n",
              "            + ' to learn more about interactive tables.';\n",
              "          element.innerHTML = '';\n",
              "          dataTable['output_type'] = 'display_data';\n",
              "          await google.colab.output.renderOutput(dataTable, element);\n",
              "          const docLink = document.createElement('div');\n",
              "          docLink.innerHTML = docLinkHtml;\n",
              "          element.appendChild(docLink);\n",
              "        }\n",
              "      </script>\n",
              "    </div>\n",
              "  </div>\n",
              "  "
            ]
          },
          "metadata": {},
          "execution_count": 60
        }
      ]
    },
    {
      "cell_type": "markdown",
      "source": [
        "2). Use the module built in (1) to compute the normalized vector for search query \n",
        "“Information Retrieval”.\n"
      ],
      "metadata": {
        "id": "gGHBUclcjmTP"
      }
    },
    {
      "cell_type": "code",
      "source": [
        "\n",
        "qu = \"Information Retrieval\"\n",
        "qu_words = qu.split(\" \")\n",
        "unique_qu_words = set(qu_words)"
      ],
      "metadata": {
        "id": "BM_XwiyHH7Xf"
      },
      "execution_count": 61,
      "outputs": []
    },
    {
      "cell_type": "code",
      "source": [
        "# Get the term freqency\n",
        "qu_tOfFre = coTOfFre(unique_qu_words, qu_words)"
      ],
      "metadata": {
        "id": "wIqXtbWkH9zw"
      },
      "execution_count": 62,
      "outputs": []
    },
    {
      "cell_type": "code",
      "source": [
        "# Calculation the  term frequency score\n",
        "qu_tOfFre_sco = calcTOfFreSco(qu_tOfFre)"
      ],
      "metadata": {
        "id": "OL6X83vuH_1k"
      },
      "execution_count": 64,
      "outputs": []
    },
    {
      "cell_type": "code",
      "source": [
        "# Calculate term frequency-Idf scores\n",
        "qu_tOfFreidf_sco = CalTfIdf(qu_tOfFre_sco, idfs)"
      ],
      "metadata": {
        "id": "ZPbx0KgKICi6"
      },
      "execution_count": 66,
      "outputs": []
    },
    {
      "cell_type": "code",
      "source": [
        "# Normalized term frequency-idf\n",
        "qu_ntfidf_sco = norTOfFreIdf(qu_tOfFreidf_sco)"
      ],
      "metadata": {
        "id": "H8DZX3OpIEzA"
      },
      "execution_count": 67,
      "outputs": []
    },
    {
      "cell_type": "markdown",
      "source": [
        "3). Write the necessary code the find out the similarity score between the search query and \n",
        "each documents in the given corpus using the following methods"
      ],
      "metadata": {
        "id": "PKxoK-38jdVP"
      }
    },
    {
      "cell_type": "markdown",
      "source": [
        "3). a). Euclidian Distance"
      ],
      "metadata": {
        "id": "pI4UlWohjwFS"
      }
    },
    {
      "cell_type": "code",
      "source": [
        "\n",
        "# Calculation of the Euclidean distance\n",
        "def calEu(tOfFreidf_query, tOfFreidf):\n",
        "  dist = [0]\n",
        "  for w in tOfFreidf:\n",
        "    euclidean = (tOfFreidf_query[w] - tOfFreidf[w]) ** 2\n",
        "    dist.append(euclidean)\n",
        "\n",
        "  return math.sqrt(sum(dist))"
      ],
      "metadata": {
        "id": "6xM00JspIG1l"
      },
      "execution_count": 68,
      "outputs": []
    },
    {
      "cell_type": "code",
      "source": [
        "# term frequency-Idf scores of all phase\n",
        "all_tOfFreidf = {}\n",
        "for w in unique_words:\n",
        "  if w in qu_tOfFreidf_sco.keys():\n",
        "    all_tOfFreidf[w] = qu_tOfFreidf_sco[w]\n",
        "  else:\n",
        "    all_tOfFreidf[w] = 0"
      ],
      "metadata": {
        "id": "HVntOhITIIrZ"
      },
      "execution_count": 69,
      "outputs": []
    },
    {
      "cell_type": "code",
      "source": [
        "\n",
        "euc_dist1 = calEu(all_tOfFreidf,tOfFre_idf1)\n",
        "euc_dist2 = calEu(all_tOfFreidf,tOfFre_idf2)\n",
        "euc_dist3 = calEu(all_tOfFreidf,tOfFre_idf3)\n",
        "euc_dist4 = calEu(all_tOfFreidf,tOfFre_idf4)\n",
        "euc_dist5 = calEu(all_tOfFreidf,tOfFre_idf5)\n",
        "\n",
        "print(euc_dist1,euc_dist2,euc_dist3,euc_dist4,euc_dist5)"
      ],
      "metadata": {
        "colab": {
          "base_uri": "https://localhost:8080/"
        },
        "id": "nbC49QI8IK0x",
        "outputId": "464397cc-645f-4a22-86f4-870c1710496e"
      },
      "execution_count": 71,
      "outputs": [
        {
          "output_type": "stream",
          "name": "stdout",
          "text": [
            "0.3979400086720376 1.4703092824484985 1.8625601564612082 1.4703092824484985 1.4703092824484985\n"
          ]
        }
      ]
    },
    {
      "cell_type": "markdown",
      "source": [
        "3). b). Cosine Distance"
      ],
      "metadata": {
        "id": "evfNOz2uj0L_"
      }
    },
    {
      "cell_type": "code",
      "source": [
        "# Calculation of the cosine distance\n",
        "def calCosSco(ntfidf_query, ntfidf):\n",
        "  cos = [0]\n",
        "  for w in ntfidf:\n",
        "    cosine = (ntfidf_query[w] * ntfidf[w])\n",
        "    cos.append(cosine)\n",
        "\n",
        "  return sum(cos)"
      ],
      "metadata": {
        "id": "K5kbpd43IMiq"
      },
      "execution_count": 72,
      "outputs": []
    },
    {
      "cell_type": "code",
      "source": [
        "# Normalized term frequency-Idf scores of all phase\n",
        "all_ntfidf = {}\n",
        "for w in unique_words:\n",
        "  if w in qu_ntfidf_sco.keys():\n",
        "    all_ntfidf[w] = qu_ntfidf_sco[w]\n",
        "  else:\n",
        "    all_ntfidf[w] = 0"
      ],
      "metadata": {
        "id": "MxGQ3FrRIOkI"
      },
      "execution_count": 73,
      "outputs": []
    },
    {
      "cell_type": "code",
      "source": [
        "\n",
        "cos_sco1 = calCosSco(all_ntfidf, nor_tOfFre_idf1)\n",
        "cos_sco2 = calCosSco(all_ntfidf, nor_tOfFre_idf2)\n",
        "cos_sco3 = calCosSco(all_ntfidf, nor_tOfFre_idf3)\n",
        "cos_sco4 = calCosSco(all_ntfidf, nor_tOfFre_idf4)\n",
        "cos_sco5 = calCosSco(all_ntfidf, nor_tOfFre_idf5)\n",
        "\n",
        "\n",
        "print(cos_sco1,cos_sco2,cos_sco3,cos_sco4,cos_sco4)"
      ],
      "metadata": {
        "colab": {
          "base_uri": "https://localhost:8080/"
        },
        "id": "p1pufLp9IQgy",
        "outputId": "971c987a-4a5a-460f-d464-a8c200c5960a"
      },
      "execution_count": 74,
      "outputs": [
        {
          "output_type": "stream",
          "name": "stdout",
          "text": [
            "0.6191315583062658 0.10669235182290762 0.08422318855436617 0.10669235182290762 0.10669235182290762\n"
          ]
        }
      ]
    },
    {
      "cell_type": "markdown",
      "source": [
        "4). Rank the documents based on values you calculated in 3) a) & b)"
      ],
      "metadata": {
        "id": "gQ5F18i8jHLI"
      }
    },
    {
      "cell_type": "code",
      "source": [
        "\n",
        "docFre = pd.DataFrame(data={'Document': ['DOC1', 'DOC2', 'DOC3','DOC4', 'DOC5'],\n",
        "                        'CosineDistance': [cos_sco1,cos_sco2,cos_sco3,cos_sco4,cos_sco5]})\n",
        "docFre"
      ],
      "metadata": {
        "colab": {
          "base_uri": "https://localhost:8080/",
          "height": 206
        },
        "id": "VV9lzFTbITD4",
        "outputId": "a22015c7-9b47-4fb5-e966-4faa4ac6b128"
      },
      "execution_count": 75,
      "outputs": [
        {
          "output_type": "execute_result",
          "data": {
            "text/plain": [
              "  Document  CosineDistance\n",
              "0     DOC1        0.619132\n",
              "1     DOC2        0.106692\n",
              "2     DOC3        0.084223\n",
              "3     DOC4        0.106692\n",
              "4     DOC5        0.106692"
            ],
            "text/html": [
              "\n",
              "  <div id=\"df-58a72358-8427-4268-973d-6bb5729412f2\">\n",
              "    <div class=\"colab-df-container\">\n",
              "      <div>\n",
              "<style scoped>\n",
              "    .dataframe tbody tr th:only-of-type {\n",
              "        vertical-align: middle;\n",
              "    }\n",
              "\n",
              "    .dataframe tbody tr th {\n",
              "        vertical-align: top;\n",
              "    }\n",
              "\n",
              "    .dataframe thead th {\n",
              "        text-align: right;\n",
              "    }\n",
              "</style>\n",
              "<table border=\"1\" class=\"dataframe\">\n",
              "  <thead>\n",
              "    <tr style=\"text-align: right;\">\n",
              "      <th></th>\n",
              "      <th>Document</th>\n",
              "      <th>CosineDistance</th>\n",
              "    </tr>\n",
              "  </thead>\n",
              "  <tbody>\n",
              "    <tr>\n",
              "      <th>0</th>\n",
              "      <td>DOC1</td>\n",
              "      <td>0.619132</td>\n",
              "    </tr>\n",
              "    <tr>\n",
              "      <th>1</th>\n",
              "      <td>DOC2</td>\n",
              "      <td>0.106692</td>\n",
              "    </tr>\n",
              "    <tr>\n",
              "      <th>2</th>\n",
              "      <td>DOC3</td>\n",
              "      <td>0.084223</td>\n",
              "    </tr>\n",
              "    <tr>\n",
              "      <th>3</th>\n",
              "      <td>DOC4</td>\n",
              "      <td>0.106692</td>\n",
              "    </tr>\n",
              "    <tr>\n",
              "      <th>4</th>\n",
              "      <td>DOC5</td>\n",
              "      <td>0.106692</td>\n",
              "    </tr>\n",
              "  </tbody>\n",
              "</table>\n",
              "</div>\n",
              "      <button class=\"colab-df-convert\" onclick=\"convertToInteractive('df-58a72358-8427-4268-973d-6bb5729412f2')\"\n",
              "              title=\"Convert this dataframe to an interactive table.\"\n",
              "              style=\"display:none;\">\n",
              "        \n",
              "  <svg xmlns=\"http://www.w3.org/2000/svg\" height=\"24px\"viewBox=\"0 0 24 24\"\n",
              "       width=\"24px\">\n",
              "    <path d=\"M0 0h24v24H0V0z\" fill=\"none\"/>\n",
              "    <path d=\"M18.56 5.44l.94 2.06.94-2.06 2.06-.94-2.06-.94-.94-2.06-.94 2.06-2.06.94zm-11 1L8.5 8.5l.94-2.06 2.06-.94-2.06-.94L8.5 2.5l-.94 2.06-2.06.94zm10 10l.94 2.06.94-2.06 2.06-.94-2.06-.94-.94-2.06-.94 2.06-2.06.94z\"/><path d=\"M17.41 7.96l-1.37-1.37c-.4-.4-.92-.59-1.43-.59-.52 0-1.04.2-1.43.59L10.3 9.45l-7.72 7.72c-.78.78-.78 2.05 0 2.83L4 21.41c.39.39.9.59 1.41.59.51 0 1.02-.2 1.41-.59l7.78-7.78 2.81-2.81c.8-.78.8-2.07 0-2.86zM5.41 20L4 18.59l7.72-7.72 1.47 1.35L5.41 20z\"/>\n",
              "  </svg>\n",
              "      </button>\n",
              "      \n",
              "  <style>\n",
              "    .colab-df-container {\n",
              "      display:flex;\n",
              "      flex-wrap:wrap;\n",
              "      gap: 12px;\n",
              "    }\n",
              "\n",
              "    .colab-df-convert {\n",
              "      background-color: #E8F0FE;\n",
              "      border: none;\n",
              "      border-radius: 50%;\n",
              "      cursor: pointer;\n",
              "      display: none;\n",
              "      fill: #1967D2;\n",
              "      height: 32px;\n",
              "      padding: 0 0 0 0;\n",
              "      width: 32px;\n",
              "    }\n",
              "\n",
              "    .colab-df-convert:hover {\n",
              "      background-color: #E2EBFA;\n",
              "      box-shadow: 0px 1px 2px rgba(60, 64, 67, 0.3), 0px 1px 3px 1px rgba(60, 64, 67, 0.15);\n",
              "      fill: #174EA6;\n",
              "    }\n",
              "\n",
              "    [theme=dark] .colab-df-convert {\n",
              "      background-color: #3B4455;\n",
              "      fill: #D2E3FC;\n",
              "    }\n",
              "\n",
              "    [theme=dark] .colab-df-convert:hover {\n",
              "      background-color: #434B5C;\n",
              "      box-shadow: 0px 1px 3px 1px rgba(0, 0, 0, 0.15);\n",
              "      filter: drop-shadow(0px 1px 2px rgba(0, 0, 0, 0.3));\n",
              "      fill: #FFFFFF;\n",
              "    }\n",
              "  </style>\n",
              "\n",
              "      <script>\n",
              "        const buttonEl =\n",
              "          document.querySelector('#df-58a72358-8427-4268-973d-6bb5729412f2 button.colab-df-convert');\n",
              "        buttonEl.style.display =\n",
              "          google.colab.kernel.accessAllowed ? 'block' : 'none';\n",
              "\n",
              "        async function convertToInteractive(key) {\n",
              "          const element = document.querySelector('#df-58a72358-8427-4268-973d-6bb5729412f2');\n",
              "          const dataTable =\n",
              "            await google.colab.kernel.invokeFunction('convertToInteractive',\n",
              "                                                     [key], {});\n",
              "          if (!dataTable) return;\n",
              "\n",
              "          const docLinkHtml = 'Like what you see? Visit the ' +\n",
              "            '<a target=\"_blank\" href=https://colab.research.google.com/notebooks/data_table.ipynb>data table notebook</a>'\n",
              "            + ' to learn more about interactive tables.';\n",
              "          element.innerHTML = '';\n",
              "          dataTable['output_type'] = 'display_data';\n",
              "          await google.colab.output.renderOutput(dataTable, element);\n",
              "          const docLink = document.createElement('div');\n",
              "          docLink.innerHTML = docLinkHtml;\n",
              "          element.appendChild(docLink);\n",
              "        }\n",
              "      </script>\n",
              "    </div>\n",
              "  </div>\n",
              "  "
            ]
          },
          "metadata": {},
          "execution_count": 75
        }
      ]
    },
    {
      "cell_type": "code",
      "source": [
        "docFre = pd.DataFrame(data={'Document': ['Doc1', 'Doc2', 'Doc3','Doc4', 'Doc5'],\n",
        "                        'EuclidianDistance': [euc_dist1,euc_dist2,euc_dist3,euc_dist4,euc_dist5]})\n",
        "docFre"
      ],
      "metadata": {
        "colab": {
          "base_uri": "https://localhost:8080/",
          "height": 206
        },
        "id": "Yseym4RiIVsK",
        "outputId": "48f513cf-6186-4a85-a930-4cc4ca95f319"
      },
      "execution_count": 76,
      "outputs": [
        {
          "output_type": "execute_result",
          "data": {
            "text/plain": [
              "  Document  EuclidianDistance\n",
              "0     Doc1           0.397940\n",
              "1     Doc2           1.470309\n",
              "2     Doc3           1.862560\n",
              "3     Doc4           1.470309\n",
              "4     Doc5           1.470309"
            ],
            "text/html": [
              "\n",
              "  <div id=\"df-b37e8e86-3fb0-4a1a-a9bf-1b9f6a5e316d\">\n",
              "    <div class=\"colab-df-container\">\n",
              "      <div>\n",
              "<style scoped>\n",
              "    .dataframe tbody tr th:only-of-type {\n",
              "        vertical-align: middle;\n",
              "    }\n",
              "\n",
              "    .dataframe tbody tr th {\n",
              "        vertical-align: top;\n",
              "    }\n",
              "\n",
              "    .dataframe thead th {\n",
              "        text-align: right;\n",
              "    }\n",
              "</style>\n",
              "<table border=\"1\" class=\"dataframe\">\n",
              "  <thead>\n",
              "    <tr style=\"text-align: right;\">\n",
              "      <th></th>\n",
              "      <th>Document</th>\n",
              "      <th>EuclidianDistance</th>\n",
              "    </tr>\n",
              "  </thead>\n",
              "  <tbody>\n",
              "    <tr>\n",
              "      <th>0</th>\n",
              "      <td>Doc1</td>\n",
              "      <td>0.397940</td>\n",
              "    </tr>\n",
              "    <tr>\n",
              "      <th>1</th>\n",
              "      <td>Doc2</td>\n",
              "      <td>1.470309</td>\n",
              "    </tr>\n",
              "    <tr>\n",
              "      <th>2</th>\n",
              "      <td>Doc3</td>\n",
              "      <td>1.862560</td>\n",
              "    </tr>\n",
              "    <tr>\n",
              "      <th>3</th>\n",
              "      <td>Doc4</td>\n",
              "      <td>1.470309</td>\n",
              "    </tr>\n",
              "    <tr>\n",
              "      <th>4</th>\n",
              "      <td>Doc5</td>\n",
              "      <td>1.470309</td>\n",
              "    </tr>\n",
              "  </tbody>\n",
              "</table>\n",
              "</div>\n",
              "      <button class=\"colab-df-convert\" onclick=\"convertToInteractive('df-b37e8e86-3fb0-4a1a-a9bf-1b9f6a5e316d')\"\n",
              "              title=\"Convert this dataframe to an interactive table.\"\n",
              "              style=\"display:none;\">\n",
              "        \n",
              "  <svg xmlns=\"http://www.w3.org/2000/svg\" height=\"24px\"viewBox=\"0 0 24 24\"\n",
              "       width=\"24px\">\n",
              "    <path d=\"M0 0h24v24H0V0z\" fill=\"none\"/>\n",
              "    <path d=\"M18.56 5.44l.94 2.06.94-2.06 2.06-.94-2.06-.94-.94-2.06-.94 2.06-2.06.94zm-11 1L8.5 8.5l.94-2.06 2.06-.94-2.06-.94L8.5 2.5l-.94 2.06-2.06.94zm10 10l.94 2.06.94-2.06 2.06-.94-2.06-.94-.94-2.06-.94 2.06-2.06.94z\"/><path d=\"M17.41 7.96l-1.37-1.37c-.4-.4-.92-.59-1.43-.59-.52 0-1.04.2-1.43.59L10.3 9.45l-7.72 7.72c-.78.78-.78 2.05 0 2.83L4 21.41c.39.39.9.59 1.41.59.51 0 1.02-.2 1.41-.59l7.78-7.78 2.81-2.81c.8-.78.8-2.07 0-2.86zM5.41 20L4 18.59l7.72-7.72 1.47 1.35L5.41 20z\"/>\n",
              "  </svg>\n",
              "      </button>\n",
              "      \n",
              "  <style>\n",
              "    .colab-df-container {\n",
              "      display:flex;\n",
              "      flex-wrap:wrap;\n",
              "      gap: 12px;\n",
              "    }\n",
              "\n",
              "    .colab-df-convert {\n",
              "      background-color: #E8F0FE;\n",
              "      border: none;\n",
              "      border-radius: 50%;\n",
              "      cursor: pointer;\n",
              "      display: none;\n",
              "      fill: #1967D2;\n",
              "      height: 32px;\n",
              "      padding: 0 0 0 0;\n",
              "      width: 32px;\n",
              "    }\n",
              "\n",
              "    .colab-df-convert:hover {\n",
              "      background-color: #E2EBFA;\n",
              "      box-shadow: 0px 1px 2px rgba(60, 64, 67, 0.3), 0px 1px 3px 1px rgba(60, 64, 67, 0.15);\n",
              "      fill: #174EA6;\n",
              "    }\n",
              "\n",
              "    [theme=dark] .colab-df-convert {\n",
              "      background-color: #3B4455;\n",
              "      fill: #D2E3FC;\n",
              "    }\n",
              "\n",
              "    [theme=dark] .colab-df-convert:hover {\n",
              "      background-color: #434B5C;\n",
              "      box-shadow: 0px 1px 3px 1px rgba(0, 0, 0, 0.15);\n",
              "      filter: drop-shadow(0px 1px 2px rgba(0, 0, 0, 0.3));\n",
              "      fill: #FFFFFF;\n",
              "    }\n",
              "  </style>\n",
              "\n",
              "      <script>\n",
              "        const buttonEl =\n",
              "          document.querySelector('#df-b37e8e86-3fb0-4a1a-a9bf-1b9f6a5e316d button.colab-df-convert');\n",
              "        buttonEl.style.display =\n",
              "          google.colab.kernel.accessAllowed ? 'block' : 'none';\n",
              "\n",
              "        async function convertToInteractive(key) {\n",
              "          const element = document.querySelector('#df-b37e8e86-3fb0-4a1a-a9bf-1b9f6a5e316d');\n",
              "          const dataTable =\n",
              "            await google.colab.kernel.invokeFunction('convertToInteractive',\n",
              "                                                     [key], {});\n",
              "          if (!dataTable) return;\n",
              "\n",
              "          const docLinkHtml = 'Like what you see? Visit the ' +\n",
              "            '<a target=\"_blank\" href=https://colab.research.google.com/notebooks/data_table.ipynb>data table notebook</a>'\n",
              "            + ' to learn more about interactive tables.';\n",
              "          element.innerHTML = '';\n",
              "          dataTable['output_type'] = 'display_data';\n",
              "          await google.colab.output.renderOutput(dataTable, element);\n",
              "          const docLink = document.createElement('div');\n",
              "          docLink.innerHTML = docLinkHtml;\n",
              "          element.appendChild(docLink);\n",
              "        }\n",
              "      </script>\n",
              "    </div>\n",
              "  </div>\n",
              "  "
            ]
          },
          "metadata": {},
          "execution_count": 76
        }
      ]
    },
    {
      "cell_type": "code",
      "source": [
        "docFre['DefaultRank'] = docFre['Cosine_Distance'].rank()\n",
        "docFre['MaxRank'] = docFre['Cosine_Distance'].rank(method='max')\n",
        "docFre"
      ],
      "metadata": {
        "colab": {
          "base_uri": "https://localhost:8080/",
          "height": 502
        },
        "id": "lk9ZPClMIXsg",
        "outputId": "164d976d-2998-4457-d604-de701620e3b3"
      },
      "execution_count": 85,
      "outputs": [
        {
          "output_type": "error",
          "ename": "KeyError",
          "evalue": "ignored",
          "traceback": [
            "\u001b[0;31m---------------------------------------------------------------------------\u001b[0m",
            "\u001b[0;31mKeyError\u001b[0m                                  Traceback (most recent call last)",
            "\u001b[0;32m/usr/local/lib/python3.7/dist-packages/pandas/core/indexes/base.py\u001b[0m in \u001b[0;36mget_loc\u001b[0;34m(self, key, method, tolerance)\u001b[0m\n\u001b[1;32m   3360\u001b[0m             \u001b[0;32mtry\u001b[0m\u001b[0;34m:\u001b[0m\u001b[0;34m\u001b[0m\u001b[0;34m\u001b[0m\u001b[0m\n\u001b[0;32m-> 3361\u001b[0;31m                 \u001b[0;32mreturn\u001b[0m \u001b[0mself\u001b[0m\u001b[0;34m.\u001b[0m\u001b[0m_engine\u001b[0m\u001b[0;34m.\u001b[0m\u001b[0mget_loc\u001b[0m\u001b[0;34m(\u001b[0m\u001b[0mcasted_key\u001b[0m\u001b[0;34m)\u001b[0m\u001b[0;34m\u001b[0m\u001b[0;34m\u001b[0m\u001b[0m\n\u001b[0m\u001b[1;32m   3362\u001b[0m             \u001b[0;32mexcept\u001b[0m \u001b[0mKeyError\u001b[0m \u001b[0;32mas\u001b[0m \u001b[0merr\u001b[0m\u001b[0;34m:\u001b[0m\u001b[0;34m\u001b[0m\u001b[0;34m\u001b[0m\u001b[0m\n",
            "\u001b[0;32m/usr/local/lib/python3.7/dist-packages/pandas/_libs/index.pyx\u001b[0m in \u001b[0;36mpandas._libs.index.IndexEngine.get_loc\u001b[0;34m()\u001b[0m\n",
            "\u001b[0;32m/usr/local/lib/python3.7/dist-packages/pandas/_libs/index.pyx\u001b[0m in \u001b[0;36mpandas._libs.index.IndexEngine.get_loc\u001b[0;34m()\u001b[0m\n",
            "\u001b[0;32mpandas/_libs/hashtable_class_helper.pxi\u001b[0m in \u001b[0;36mpandas._libs.hashtable.PyObjectHashTable.get_item\u001b[0;34m()\u001b[0m\n",
            "\u001b[0;32mpandas/_libs/hashtable_class_helper.pxi\u001b[0m in \u001b[0;36mpandas._libs.hashtable.PyObjectHashTable.get_item\u001b[0;34m()\u001b[0m\n",
            "\u001b[0;31mKeyError\u001b[0m: 'Cosine_Distance'",
            "\nThe above exception was the direct cause of the following exception:\n",
            "\u001b[0;31mKeyError\u001b[0m                                  Traceback (most recent call last)",
            "\u001b[0;32m<ipython-input-85-1ca0017307b9>\u001b[0m in \u001b[0;36m<module>\u001b[0;34m\u001b[0m\n\u001b[0;32m----> 1\u001b[0;31m \u001b[0mdocFre\u001b[0m\u001b[0;34m[\u001b[0m\u001b[0;34m'DefaultRank'\u001b[0m\u001b[0;34m]\u001b[0m \u001b[0;34m=\u001b[0m \u001b[0mdocFre\u001b[0m\u001b[0;34m[\u001b[0m\u001b[0;34m'Cosine_Distance'\u001b[0m\u001b[0;34m]\u001b[0m\u001b[0;34m.\u001b[0m\u001b[0mrank\u001b[0m\u001b[0;34m(\u001b[0m\u001b[0;34m)\u001b[0m\u001b[0;34m\u001b[0m\u001b[0;34m\u001b[0m\u001b[0m\n\u001b[0m\u001b[1;32m      2\u001b[0m \u001b[0mdocFre\u001b[0m\u001b[0;34m[\u001b[0m\u001b[0;34m'MaxRank'\u001b[0m\u001b[0;34m]\u001b[0m \u001b[0;34m=\u001b[0m \u001b[0mdocFre\u001b[0m\u001b[0;34m[\u001b[0m\u001b[0;34m'Cosine_Distance'\u001b[0m\u001b[0;34m]\u001b[0m\u001b[0;34m.\u001b[0m\u001b[0mrank\u001b[0m\u001b[0;34m(\u001b[0m\u001b[0mmethod\u001b[0m\u001b[0;34m=\u001b[0m\u001b[0;34m'max'\u001b[0m\u001b[0;34m)\u001b[0m\u001b[0;34m\u001b[0m\u001b[0;34m\u001b[0m\u001b[0m\n\u001b[1;32m      3\u001b[0m \u001b[0mdocFre\u001b[0m\u001b[0;34m\u001b[0m\u001b[0;34m\u001b[0m\u001b[0m\n",
            "\u001b[0;32m/usr/local/lib/python3.7/dist-packages/pandas/core/frame.py\u001b[0m in \u001b[0;36m__getitem__\u001b[0;34m(self, key)\u001b[0m\n\u001b[1;32m   3456\u001b[0m             \u001b[0;32mif\u001b[0m \u001b[0mself\u001b[0m\u001b[0;34m.\u001b[0m\u001b[0mcolumns\u001b[0m\u001b[0;34m.\u001b[0m\u001b[0mnlevels\u001b[0m \u001b[0;34m>\u001b[0m \u001b[0;36m1\u001b[0m\u001b[0;34m:\u001b[0m\u001b[0;34m\u001b[0m\u001b[0;34m\u001b[0m\u001b[0m\n\u001b[1;32m   3457\u001b[0m                 \u001b[0;32mreturn\u001b[0m \u001b[0mself\u001b[0m\u001b[0;34m.\u001b[0m\u001b[0m_getitem_multilevel\u001b[0m\u001b[0;34m(\u001b[0m\u001b[0mkey\u001b[0m\u001b[0;34m)\u001b[0m\u001b[0;34m\u001b[0m\u001b[0;34m\u001b[0m\u001b[0m\n\u001b[0;32m-> 3458\u001b[0;31m             \u001b[0mindexer\u001b[0m \u001b[0;34m=\u001b[0m \u001b[0mself\u001b[0m\u001b[0;34m.\u001b[0m\u001b[0mcolumns\u001b[0m\u001b[0;34m.\u001b[0m\u001b[0mget_loc\u001b[0m\u001b[0;34m(\u001b[0m\u001b[0mkey\u001b[0m\u001b[0;34m)\u001b[0m\u001b[0;34m\u001b[0m\u001b[0;34m\u001b[0m\u001b[0m\n\u001b[0m\u001b[1;32m   3459\u001b[0m             \u001b[0;32mif\u001b[0m \u001b[0mis_integer\u001b[0m\u001b[0;34m(\u001b[0m\u001b[0mindexer\u001b[0m\u001b[0;34m)\u001b[0m\u001b[0;34m:\u001b[0m\u001b[0;34m\u001b[0m\u001b[0;34m\u001b[0m\u001b[0m\n\u001b[1;32m   3460\u001b[0m                 \u001b[0mindexer\u001b[0m \u001b[0;34m=\u001b[0m \u001b[0;34m[\u001b[0m\u001b[0mindexer\u001b[0m\u001b[0;34m]\u001b[0m\u001b[0;34m\u001b[0m\u001b[0;34m\u001b[0m\u001b[0m\n",
            "\u001b[0;32m/usr/local/lib/python3.7/dist-packages/pandas/core/indexes/base.py\u001b[0m in \u001b[0;36mget_loc\u001b[0;34m(self, key, method, tolerance)\u001b[0m\n\u001b[1;32m   3361\u001b[0m                 \u001b[0;32mreturn\u001b[0m \u001b[0mself\u001b[0m\u001b[0;34m.\u001b[0m\u001b[0m_engine\u001b[0m\u001b[0;34m.\u001b[0m\u001b[0mget_loc\u001b[0m\u001b[0;34m(\u001b[0m\u001b[0mcasted_key\u001b[0m\u001b[0;34m)\u001b[0m\u001b[0;34m\u001b[0m\u001b[0;34m\u001b[0m\u001b[0m\n\u001b[1;32m   3362\u001b[0m             \u001b[0;32mexcept\u001b[0m \u001b[0mKeyError\u001b[0m \u001b[0;32mas\u001b[0m \u001b[0merr\u001b[0m\u001b[0;34m:\u001b[0m\u001b[0;34m\u001b[0m\u001b[0;34m\u001b[0m\u001b[0m\n\u001b[0;32m-> 3363\u001b[0;31m                 \u001b[0;32mraise\u001b[0m \u001b[0mKeyError\u001b[0m\u001b[0;34m(\u001b[0m\u001b[0mkey\u001b[0m\u001b[0;34m)\u001b[0m \u001b[0;32mfrom\u001b[0m \u001b[0merr\u001b[0m\u001b[0;34m\u001b[0m\u001b[0;34m\u001b[0m\u001b[0m\n\u001b[0m\u001b[1;32m   3364\u001b[0m \u001b[0;34m\u001b[0m\u001b[0m\n\u001b[1;32m   3365\u001b[0m         \u001b[0;32mif\u001b[0m \u001b[0mis_scalar\u001b[0m\u001b[0;34m(\u001b[0m\u001b[0mkey\u001b[0m\u001b[0;34m)\u001b[0m \u001b[0;32mand\u001b[0m \u001b[0misna\u001b[0m\u001b[0;34m(\u001b[0m\u001b[0mkey\u001b[0m\u001b[0;34m)\u001b[0m \u001b[0;32mand\u001b[0m \u001b[0;32mnot\u001b[0m \u001b[0mself\u001b[0m\u001b[0;34m.\u001b[0m\u001b[0mhasnans\u001b[0m\u001b[0;34m:\u001b[0m\u001b[0;34m\u001b[0m\u001b[0;34m\u001b[0m\u001b[0m\n",
            "\u001b[0;31mKeyError\u001b[0m: 'Cosine_Distance'"
          ]
        }
      ]
    },
    {
      "cell_type": "code",
      "source": [
        "docFre['DefaultRank'] = docFre['EuclidianDistance'].rank()\n",
        "docFre['MaxRank'] = docFre['EuclidianDistance'].rank(method='max')\n",
        "docFre"
      ],
      "metadata": {
        "colab": {
          "base_uri": "https://localhost:8080/",
          "height": 206
        },
        "id": "EmwLlipuIZqo",
        "outputId": "4b497ccd-9951-4716-e0db-cc1f2cb75cd1"
      },
      "execution_count": 83,
      "outputs": [
        {
          "output_type": "execute_result",
          "data": {
            "text/plain": [
              "  Document  EuclidianDistance  DefaultRank  MaxRank\n",
              "0     Doc1           0.397940          1.0      1.0\n",
              "1     Doc2           1.470309          3.0      4.0\n",
              "2     Doc3           1.862560          5.0      5.0\n",
              "3     Doc4           1.470309          3.0      4.0\n",
              "4     Doc5           1.470309          3.0      4.0"
            ],
            "text/html": [
              "\n",
              "  <div id=\"df-9a2d4787-a989-47e4-9d63-a5baded8c21d\">\n",
              "    <div class=\"colab-df-container\">\n",
              "      <div>\n",
              "<style scoped>\n",
              "    .dataframe tbody tr th:only-of-type {\n",
              "        vertical-align: middle;\n",
              "    }\n",
              "\n",
              "    .dataframe tbody tr th {\n",
              "        vertical-align: top;\n",
              "    }\n",
              "\n",
              "    .dataframe thead th {\n",
              "        text-align: right;\n",
              "    }\n",
              "</style>\n",
              "<table border=\"1\" class=\"dataframe\">\n",
              "  <thead>\n",
              "    <tr style=\"text-align: right;\">\n",
              "      <th></th>\n",
              "      <th>Document</th>\n",
              "      <th>EuclidianDistance</th>\n",
              "      <th>DefaultRank</th>\n",
              "      <th>MaxRank</th>\n",
              "    </tr>\n",
              "  </thead>\n",
              "  <tbody>\n",
              "    <tr>\n",
              "      <th>0</th>\n",
              "      <td>Doc1</td>\n",
              "      <td>0.397940</td>\n",
              "      <td>1.0</td>\n",
              "      <td>1.0</td>\n",
              "    </tr>\n",
              "    <tr>\n",
              "      <th>1</th>\n",
              "      <td>Doc2</td>\n",
              "      <td>1.470309</td>\n",
              "      <td>3.0</td>\n",
              "      <td>4.0</td>\n",
              "    </tr>\n",
              "    <tr>\n",
              "      <th>2</th>\n",
              "      <td>Doc3</td>\n",
              "      <td>1.862560</td>\n",
              "      <td>5.0</td>\n",
              "      <td>5.0</td>\n",
              "    </tr>\n",
              "    <tr>\n",
              "      <th>3</th>\n",
              "      <td>Doc4</td>\n",
              "      <td>1.470309</td>\n",
              "      <td>3.0</td>\n",
              "      <td>4.0</td>\n",
              "    </tr>\n",
              "    <tr>\n",
              "      <th>4</th>\n",
              "      <td>Doc5</td>\n",
              "      <td>1.470309</td>\n",
              "      <td>3.0</td>\n",
              "      <td>4.0</td>\n",
              "    </tr>\n",
              "  </tbody>\n",
              "</table>\n",
              "</div>\n",
              "      <button class=\"colab-df-convert\" onclick=\"convertToInteractive('df-9a2d4787-a989-47e4-9d63-a5baded8c21d')\"\n",
              "              title=\"Convert this dataframe to an interactive table.\"\n",
              "              style=\"display:none;\">\n",
              "        \n",
              "  <svg xmlns=\"http://www.w3.org/2000/svg\" height=\"24px\"viewBox=\"0 0 24 24\"\n",
              "       width=\"24px\">\n",
              "    <path d=\"M0 0h24v24H0V0z\" fill=\"none\"/>\n",
              "    <path d=\"M18.56 5.44l.94 2.06.94-2.06 2.06-.94-2.06-.94-.94-2.06-.94 2.06-2.06.94zm-11 1L8.5 8.5l.94-2.06 2.06-.94-2.06-.94L8.5 2.5l-.94 2.06-2.06.94zm10 10l.94 2.06.94-2.06 2.06-.94-2.06-.94-.94-2.06-.94 2.06-2.06.94z\"/><path d=\"M17.41 7.96l-1.37-1.37c-.4-.4-.92-.59-1.43-.59-.52 0-1.04.2-1.43.59L10.3 9.45l-7.72 7.72c-.78.78-.78 2.05 0 2.83L4 21.41c.39.39.9.59 1.41.59.51 0 1.02-.2 1.41-.59l7.78-7.78 2.81-2.81c.8-.78.8-2.07 0-2.86zM5.41 20L4 18.59l7.72-7.72 1.47 1.35L5.41 20z\"/>\n",
              "  </svg>\n",
              "      </button>\n",
              "      \n",
              "  <style>\n",
              "    .colab-df-container {\n",
              "      display:flex;\n",
              "      flex-wrap:wrap;\n",
              "      gap: 12px;\n",
              "    }\n",
              "\n",
              "    .colab-df-convert {\n",
              "      background-color: #E8F0FE;\n",
              "      border: none;\n",
              "      border-radius: 50%;\n",
              "      cursor: pointer;\n",
              "      display: none;\n",
              "      fill: #1967D2;\n",
              "      height: 32px;\n",
              "      padding: 0 0 0 0;\n",
              "      width: 32px;\n",
              "    }\n",
              "\n",
              "    .colab-df-convert:hover {\n",
              "      background-color: #E2EBFA;\n",
              "      box-shadow: 0px 1px 2px rgba(60, 64, 67, 0.3), 0px 1px 3px 1px rgba(60, 64, 67, 0.15);\n",
              "      fill: #174EA6;\n",
              "    }\n",
              "\n",
              "    [theme=dark] .colab-df-convert {\n",
              "      background-color: #3B4455;\n",
              "      fill: #D2E3FC;\n",
              "    }\n",
              "\n",
              "    [theme=dark] .colab-df-convert:hover {\n",
              "      background-color: #434B5C;\n",
              "      box-shadow: 0px 1px 3px 1px rgba(0, 0, 0, 0.15);\n",
              "      filter: drop-shadow(0px 1px 2px rgba(0, 0, 0, 0.3));\n",
              "      fill: #FFFFFF;\n",
              "    }\n",
              "  </style>\n",
              "\n",
              "      <script>\n",
              "        const buttonEl =\n",
              "          document.querySelector('#df-9a2d4787-a989-47e4-9d63-a5baded8c21d button.colab-df-convert');\n",
              "        buttonEl.style.display =\n",
              "          google.colab.kernel.accessAllowed ? 'block' : 'none';\n",
              "\n",
              "        async function convertToInteractive(key) {\n",
              "          const element = document.querySelector('#df-9a2d4787-a989-47e4-9d63-a5baded8c21d');\n",
              "          const dataTable =\n",
              "            await google.colab.kernel.invokeFunction('convertToInteractive',\n",
              "                                                     [key], {});\n",
              "          if (!dataTable) return;\n",
              "\n",
              "          const docLinkHtml = 'Like what you see? Visit the ' +\n",
              "            '<a target=\"_blank\" href=https://colab.research.google.com/notebooks/data_table.ipynb>data table notebook</a>'\n",
              "            + ' to learn more about interactive tables.';\n",
              "          element.innerHTML = '';\n",
              "          dataTable['output_type'] = 'display_data';\n",
              "          await google.colab.output.renderOutput(dataTable, element);\n",
              "          const docLink = document.createElement('div');\n",
              "          docLink.innerHTML = docLinkHtml;\n",
              "          element.appendChild(docLink);\n",
              "        }\n",
              "      </script>\n",
              "    </div>\n",
              "  </div>\n",
              "  "
            ]
          },
          "metadata": {},
          "execution_count": 83
        }
      ]
    }
  ]
}