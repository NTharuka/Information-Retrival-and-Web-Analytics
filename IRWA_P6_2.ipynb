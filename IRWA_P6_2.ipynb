{
  "nbformat": 4,
  "nbformat_minor": 0,
  "metadata": {
    "colab": {
      "provenance": []
    },
    "kernelspec": {
      "name": "python3",
      "display_name": "Python 3"
    },
    "language_info": {
      "name": "python"
    }
  },
  "cells": [
    {
      "cell_type": "code",
      "execution_count": null,
      "metadata": {
        "id": "iTBcbBo9np9K"
      },
      "outputs": [],
      "source": [
        "import requsets\n",
        "import lxml\n",
        "from bs4 import BeautifulSoup\n",
        "from xlwt import *\n",
        "\n",
        "url = \"https://odel.lk/deal-products\"\n",
        "f = requests.get(url)\n",
        "soup = BeautifulSoup(f.content, \"lxml\")\n",
        "wb = Workbook(encoding = 'utf-8')\n",
        "ws = wb.add_Sheet('dataset')\n",
        "\n",
        "ws.write(0, 0, \"Product number\")\n",
        "ws.write(0, 1, \"Product name\")\n",
        "ws.write(0, 2, \"New Price\")\n",
        "ws.write(0, 3, \"Old Pricer\")\n",
        "ws.write(0, 4, \"discount\")\n",
        "\n",
        "details = soup.find_all(\"div\", class_ *\"col-sm-6 col-md-4 col-lg-3 p-b-35 product-tile-search\")\n",
        "\n"
      ]
    }
  ]
}