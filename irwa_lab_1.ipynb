{
  "nbformat": 4,
  "nbformat_minor": 0,
  "metadata": {
    "colab": {
      "provenance": []
    },
    "kernelspec": {
      "name": "python3",
      "display_name": "Python 3"
    },
    "language_info": {
      "name": "python"
    }
  },
  "cells": [
    {
      "cell_type": "markdown",
      "source": [
        "1). Concatenate two lists index-wise\n",
        "teams = [\"India\", \"England\", \"NZ\", \"Aus\"]\n",
        "captains = [\"Kohli\",\"Root\",\"Williaamson\", \"Smith\"]"
      ],
      "metadata": {
        "id": "ZSLSNYeISYtc"
      }
    },
    {
      "cell_type": "code",
      "execution_count": null,
      "metadata": {
        "id": "TB2GU1ad2wlv",
        "colab": {
          "base_uri": "https://localhost:8080/"
        },
        "outputId": "a36ed61a-d8f3-463f-8fda-899fa3a8963d"
      },
      "outputs": [
        {
          "output_type": "stream",
          "name": "stdout",
          "text": [
            "[('India', 'Kohli'), ('England', 'Root'), ('NZ', 'Williaamson'), ('Aus', 'Smith')]\n"
          ]
        }
      ],
      "source": [
        "teams = [\"India\", \"England\", \"NZ\", \"Aus\"]\n",
        "captains = [\"Kohli\",\"Root\",\"Williaamson\", \"Smith\"]\n",
        "zipped = zip(teams,captains)\n",
        "ziplist = list(zipped)\n",
        "print(ziplist)"
      ]
    },
    {
      "cell_type": "code",
      "source": [
        "zipped = zip(teams,captains)\n",
        "zipdict = dict(zipped)\n",
        "print(zipdict)"
      ],
      "metadata": {
        "colab": {
          "base_uri": "https://localhost:8080/"
        },
        "id": "nJzJOVTEE9fH",
        "outputId": "8253ccb5-4c9f-41ac-f15a-96bf42b81902"
      },
      "execution_count": null,
      "outputs": [
        {
          "output_type": "stream",
          "name": "stdout",
          "text": [
            "{'India': 'Kohli', 'England': 'Root', 'NZ': 'Williaamson', 'Aus': 'Smith'}\n"
          ]
        }
      ]
    },
    {
      "cell_type": "markdown",
      "source": [
        "2) Given a list of books, their prices, and the quantities that you purchased, print out the total amount spent on each item. \n",
        "books= [\"textbooks\", \"exercise books\", \"story book\", \"drawing books\"] prices = [100,60,90,70] \n",
        "quantities = [3,2,1,4]"
      ],
      "metadata": {
        "id": "bK_-xvqGTN2T"
      }
    },
    {
      "cell_type": "code",
      "source": [
        "books= [\"textbooks\", \"exercise books\", \"story book\", \"drawing books\"]\n",
        "prices = [100,60,90,70]\n",
        "quantities = [3,2,1,4]\n",
        "for x,y,z in zip(books,prices,quantities):\n",
        "  print(f\"You bought {z} {x} for ${y*z}\")\n"
      ],
      "metadata": {
        "colab": {
          "base_uri": "https://localhost:8080/"
        },
        "id": "BmyrGgTzF5x-",
        "outputId": "1b41aecd-a1c1-4c59-dc77-204ea176e322"
      },
      "execution_count": null,
      "outputs": [
        {
          "output_type": "stream",
          "name": "stdout",
          "text": [
            "You bought 3 textbooks for $300\n",
            "You bought 2 exercise books for $120\n",
            "You bought 1 story book for $90\n",
            "You bought 4 drawing books for $280\n"
          ]
        }
      ]
    },
    {
      "cell_type": "markdown",
      "source": [
        "3) Given a Python list. Add 10 to each item of the list 1.\n",
        "List 1 = [2,4,6,8,10]\n"
      ],
      "metadata": {
        "id": "R4RcT01BTeVS"
      }
    },
    {
      "cell_type": "code",
      "source": [
        "List1 = [2,4,6,8,10]\n",
        "x = [i+10 for i in List1]\n",
        "print(x)"
      ],
      "metadata": {
        "colab": {
          "base_uri": "https://localhost:8080/"
        },
        "id": "NPuFe1WBMH91",
        "outputId": "9cc8bb9a-b161-47da-a91a-8f9d541f5b04"
      },
      "execution_count": null,
      "outputs": [
        {
          "output_type": "stream",
          "name": "stdout",
          "text": [
            "[12, 14, 16, 18, 20]\n"
          ]
        }
      ]
    },
    {
      "cell_type": "markdown",
      "source": [
        "4) Given a two Python list. Write a program to iterate both lists simultaneously and display items from list1 in original order and items from list2 in reverse order \n",
        "list1 = [10, 20, 30, 40] list2 = [\"Apples\", \"Mangoes\", \"Oranges\", \"Grapes\"]"
      ],
      "metadata": {
        "id": "pizX5CFJS6Nj"
      }
    },
    {
      "cell_type": "code",
      "source": [
        "list1 = [10, 20, 30, 40]\n",
        "list2 = [\"Apples\", \"Mangoes\", \"Oranges\", \"Grapes\"]\n",
        "for x,y in zip(list1,list2[::-1]):\n",
        "  print(x,y)\n"
      ],
      "metadata": {
        "colab": {
          "base_uri": "https://localhost:8080/"
        },
        "id": "n9W7WmTJMZ-h",
        "outputId": "f3b41f70-a01b-46da-fb0c-1dae762e9c05"
      },
      "execution_count": null,
      "outputs": [
        {
          "output_type": "stream",
          "name": "stdout",
          "text": [
            "10 Grapes\n",
            "20 Oranges\n",
            "30 Mangoes\n",
            "40 Apples\n"
          ]
        }
      ]
    },
    {
      "cell_type": "markdown",
      "source": [
        "5) Given a nested list extend it with adding sub list [\"h\", \"i\", \"j\"] in a such a way that it will look\n",
        "like the following list\n",
        "list1 = [\"a\", \"b\", [\"c\", [\"d\", \"e\", [\"f\", \"g\"], \"k\"], \"l\"], \"m\", \"n\"]\n",
        "sub_list = [\"h\", \"i\", \"j\"]"
      ],
      "metadata": {
        "id": "QhlwxHBL5MZs"
      }
    },
    {
      "cell_type": "markdown",
      "source": [
        "nested list= one link is in other link"
      ],
      "metadata": {
        "id": "KbdRi80DSQ-s"
      }
    },
    {
      "cell_type": "code",
      "source": [
        "list1 = [\"a\", \"b\", [\"c\", [\"d\", \"e\", [\"f\", \"g\"], \"k\"], \"l\"], \"m\", \"n\"]\n",
        "list2 = [\"a\", \"b\", [\"c\", [\"d\", \"e\", [\"f\", \"g\"], \"k\"], \"l\"], \"m\", \"n\"]\n",
        "#list1 = list2\n",
        "sub_list = [\"h\",\"i\",\"j\"]"
      ],
      "metadata": {
        "id": "eVCqB4aXR5BU"
      },
      "execution_count": null,
      "outputs": []
    },
    {
      "cell_type": "code",
      "source": [
        "list1[2][1][2].extend(sub_list)\n",
        "print(list1)\n",
        "list2[2][1][2].extend(sub_list)\n",
        "print(list2)"
      ],
      "metadata": {
        "colab": {
          "base_uri": "https://localhost:8080/"
        },
        "id": "DM520Hij9rpN",
        "outputId": "88ae58de-7339-434f-9776-0be68aadc834"
      },
      "execution_count": null,
      "outputs": [
        {
          "output_type": "stream",
          "name": "stdout",
          "text": [
            "['a', 'b', ['c', ['d', 'e', ['f', 'g', 'h', 'i', 'j', 'h', 'i', 'j'], 'k'], 'l'], 'm', 'n']\n",
            "['a', 'b', ['c', ['d', 'e', ['f', 'g', 'h', 'i', 'j'], 'k'], 'l'], 'm', 'n']\n"
          ]
        }
      ]
    },
    {
      "cell_type": "markdown",
      "source": [
        "6) Given a Python list, write a program to remove all occurrences of item 15.\n",
        "List1= [10,15,20,15,32,54,15]\n"
      ],
      "metadata": {
        "id": "5a_wpDnn_CgD"
      }
    },
    {
      "cell_type": "code",
      "source": [
        "List1= [10,15,20,15,32,54,15]\n",
        "while 15 in List1:\n",
        "  List1.remove(15)\n",
        "print(List1)"
      ],
      "metadata": {
        "colab": {
          "base_uri": "https://localhost:8080/"
        },
        "id": "yc32V1C5-mDS",
        "outputId": "b1a221ee-dd81-420e-982c-e2c59e5a9d36"
      },
      "execution_count": null,
      "outputs": [
        {
          "output_type": "stream",
          "name": "stdout",
          "text": [
            "[10, 20, 32, 54]\n"
          ]
        }
      ]
    },
    {
      "cell_type": "markdown",
      "source": [
        "7) Merge following two Python dictionaries into one\n",
        "dict_1 = {'John': 15, 'Rick': 10, 'Misa': 12}\n",
        "dict_2 = {'Bonnie': 18,'Rick': 20,'Matt': 16}"
      ],
      "metadata": {
        "id": "ZYyqDKC2vp8C"
      }
    },
    {
      "cell_type": "code",
      "source": [],
      "metadata": {
        "id": "zj85voPmvr-i"
      },
      "execution_count": null,
      "outputs": []
    }
  ]
}